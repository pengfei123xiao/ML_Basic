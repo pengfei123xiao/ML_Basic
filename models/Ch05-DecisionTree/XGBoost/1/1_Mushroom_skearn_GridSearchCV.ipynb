{
  "nbformat": 4,
  "nbformat_minor": 0,
  "metadata": {
    "kernelspec": {
      "name": "python3",
      "display_name": "Python 3"
    },
    "colab": {
      "name": "1_Mushroom_skearn_GridSearchCV.ipynb",
      "version": "0.3.2",
      "provenance": [],
      "toc_visible": true,
      "include_colab_link": true
    },
    "accelerator": "GPU"
  },
  "cells": [
    {
      "cell_type": "markdown",
      "metadata": {
        "id": "view-in-github",
        "colab_type": "text"
      },
      "source": [
        "<a href=\"https://colab.research.google.com/github/pengfei123xiao/ML_Basic/blob/master/models/Ch05-DecisionTree/XGBoost/1/1_Mushroom_skearn_GridSearchCV.ipynb\" target=\"_parent\"><img src=\"https://colab.research.google.com/assets/colab-badge.svg\" alt=\"Open In Colab\"/></a>"
      ]
    },
    {
      "cell_type": "markdown",
      "metadata": {
        "id": "zOKUcS1G0KU-",
        "colab_type": "text"
      },
      "source": [
        "# XGBoost+scikit-learn-GridSearchCV"
      ]
    },
    {
      "cell_type": "code",
      "metadata": {
        "id": "lLBfaBke0KVA",
        "colab_type": "code",
        "colab": {}
      },
      "source": [
        "from xgboost import XGBClassifier\n",
        "from sklearn.datasets import load_svmlight_file\n",
        "from sklearn.model_selection import GridSearchCV\n",
        "from sklearn.metrics import accuracy_score\n",
        "from matplotlib import pyplot"
      ],
      "execution_count": 0,
      "outputs": []
    },
    {
      "cell_type": "markdown",
      "metadata": {
        "id": "nD0GNjhj0KVG",
        "colab_type": "text"
      },
      "source": [
        "## Load data"
      ]
    },
    {
      "cell_type": "markdown",
      "metadata": {
        "id": "2jK8uSL70KVH",
        "colab_type": "text"
      },
      "source": [
        "scikit-learn支持多种格式的数据，包括LibSVM格式数据\n",
        "XGBoost可以加载libsvm格式的文本数据，libsvm的文件格式（稀疏特征）如下：\n",
        "1 101:1.2 102:0.03\n",
        "0 1:2.1 10001:300 10002:400\n",
        "...\n",
        "\n",
        "每一行表示一个样本，第一行的开头的“1”是样本的标签。“101”和“102”为特征索引，'1.2'和'0.03' 为特征的值。\n",
        "在两类分类中，用“1”表示正样本，用“0” 表示负样本。也支持[0,1]表示概率用来做标签，表示为正样本的概率。\n",
        "\n",
        "下面的示例数据需要我们通过一些蘑菇的若干属性判断这个品种是否有毒。\n",
        "UCI数据描述：http://archive.ics.uci.edu/ml/machine-learning-databases/mushroom/ ，\n",
        "每个样本描述了蘑菇的22个属性，比如形状、气味等等(加工成libsvm格式后变成了126维特征)，\n",
        "然后给出了这个蘑菇是否可食用。其中6513个样本做训练，1611个样本做测试。\n",
        "\n",
        "XGBoost加载的数据存储在对象DMatrix中\n",
        "XGBoost自定义了一个数据矩阵类DMatrix，优化了存储和运算速度\n",
        "DMatrix文档：http://xgboost.readthedocs.io/en/latest/python/python_api.html"
      ]
    },
    {
      "cell_type": "code",
      "metadata": {
        "id": "470TNYzF0KVH",
        "colab_type": "code",
        "colab": {
          "base_uri": "https://localhost:8080/",
          "height": 52
        },
        "outputId": "2b9ff81c-d69b-483f-d76b-16152714fa3a"
      },
      "source": [
        "# read in data，数据在xgboost安装的路径下的demo目录,现在copy到代码目录下的data目录\n",
        "my_workpath = './data/'\n",
        "# X_train,y_train = load_svmlight_file(my_workpath + 'agaricus.txt.train')\n",
        "# X_test,y_test = load_svmlight_file(my_workpath + 'agaricus.txt.test')\n",
        "X_train,y_train = load_svmlight_file('agaricus.txt.train')\n",
        "X_test,y_test = load_svmlight_file('agaricus.txt.test')\n",
        "print(X_train.shape)\n",
        "print(X_test.shape)"
      ],
      "execution_count": 6,
      "outputs": [
        {
          "output_type": "stream",
          "text": [
            "(6513, 126)\n",
            "(1611, 126)\n"
          ],
          "name": "stdout"
        }
      ]
    },
    {
      "cell_type": "markdown",
      "metadata": {
        "id": "cgrrUpsO0KVL",
        "colab_type": "text"
      },
      "source": [
        "## paras setting"
      ]
    },
    {
      "cell_type": "code",
      "metadata": {
        "id": "iiRrTKB50KVL",
        "colab_type": "code",
        "colab": {
          "base_uri": "https://localhost:8080/",
          "height": 35
        },
        "outputId": "03ad0ddf-1ea8-48c4-9e03-7fcf77bb7f65"
      },
      "source": [
        "# specify parameters via map\n",
        "params = {'max_depth':2, 'eta':0.1, 'silent':0, 'objective':'binary:logistic' }\n",
        "print(params)"
      ],
      "execution_count": 8,
      "outputs": [
        {
          "output_type": "stream",
          "text": [
            "{'max_depth': 2, 'eta': 0.1, 'silent': 0, 'objective': 'binary:logistic'}\n"
          ],
          "name": "stdout"
        }
      ]
    },
    {
      "cell_type": "markdown",
      "metadata": {
        "id": "W9dfAgzu0KVQ",
        "colab_type": "text"
      },
      "source": [
        "## build models"
      ]
    },
    {
      "cell_type": "code",
      "metadata": {
        "id": "03eVLQVI0KVR",
        "colab_type": "code",
        "colab": {}
      },
      "source": [
        "# bst = XGBClassifier(params)\n",
        "bst =XGBClassifier(max_depth=2, learning_rate=0.1, silent=True, objective='binary:logistic')"
      ],
      "execution_count": 0,
      "outputs": []
    },
    {
      "cell_type": "markdown",
      "metadata": {
        "id": "b-CAeFYP0KVV",
        "colab_type": "text"
      },
      "source": [
        "## cross-validation"
      ]
    },
    {
      "cell_type": "code",
      "metadata": {
        "scrolled": true,
        "id": "xmEhJbPE0KVW",
        "colab_type": "code",
        "colab": {
          "base_uri": "https://localhost:8080/",
          "height": 1000
        },
        "outputId": "ab0c4bf3-5509-416e-f72d-04de0edb0845"
      },
      "source": [
        "# 设置boosting迭代计算次数\n",
        "param_test = {\n",
        " 'n_estimators': range(1, 51, 2)\n",
        "}\n",
        "clf = GridSearchCV(estimator = bst, param_grid = param_test, scoring='accuracy', cv=5)\n",
        "clf.fit(X_train, y_train)\n",
        "print(clf.cv_results_)\n",
        "print(clf.best_params_)\n",
        "print(clf.best_score_)"
      ],
      "execution_count": 14,
      "outputs": [
        {
          "output_type": "stream",
          "text": [
            "{'mean_fit_time': array([0.05043974, 0.05420499, 0.06067576, 0.06380911, 0.06899858,\n",
            "       0.07582035, 0.07988787, 0.08605852, 0.0901618 , 0.0971066 ,\n",
            "       0.10076823, 0.11891489, 0.11622629, 0.12000985, 0.12458234,\n",
            "       0.12912359, 0.1379509 , 0.13888717, 0.14431915, 0.15023499,\n",
            "       0.15559778, 0.16214075, 0.16618934, 0.17119193, 0.17684126]), 'std_fit_time': array([0.00296757, 0.00073235, 0.00162257, 0.00049193, 0.00046373,\n",
            "       0.0023111 , 0.00036929, 0.00195421, 0.00069291, 0.0025886 ,\n",
            "       0.00058855, 0.02222305, 0.00716246, 0.00445608, 0.00162269,\n",
            "       0.00101656, 0.00403366, 0.00103187, 0.00332253, 0.00197547,\n",
            "       0.00128598, 0.00256371, 0.00320654, 0.00309259, 0.00337979]), 'mean_score_time': array([0.01078362, 0.01173801, 0.01183562, 0.01084042, 0.01081595,\n",
            "       0.01075363, 0.01088805, 0.01077957, 0.01094556, 0.01082301,\n",
            "       0.01093807, 0.01153059, 0.01124797, 0.01093855, 0.01203475,\n",
            "       0.01107521, 0.0110395 , 0.01190333, 0.01096921, 0.01221805,\n",
            "       0.01264548, 0.01226482, 0.0109849 , 0.01116958, 0.0114285 ]), 'std_score_time': array([1.55690465e-04, 1.30358457e-03, 2.02950908e-03, 2.48692544e-04,\n",
            "       1.72135876e-04, 1.35813151e-04, 1.40054095e-04, 8.80933130e-05,\n",
            "       8.57330137e-05, 2.27575099e-04, 1.44684024e-04, 1.34228795e-03,\n",
            "       3.49561369e-04, 8.51731278e-05, 1.70235821e-03, 2.06620501e-04,\n",
            "       1.56041927e-04, 2.00222164e-03, 1.43714907e-04, 1.79885333e-03,\n",
            "       2.86865740e-03, 2.04993907e-03, 1.47572280e-04, 2.08149038e-04,\n",
            "       9.03283499e-04]), 'param_n_estimators': masked_array(data=[1, 3, 5, 7, 9, 11, 13, 15, 17, 19, 21, 23, 25, 27, 29,\n",
            "                   31, 33, 35, 37, 39, 41, 43, 45, 47, 49],\n",
            "             mask=[False, False, False, False, False, False, False, False,\n",
            "                   False, False, False, False, False, False, False, False,\n",
            "                   False, False, False, False, False, False, False, False,\n",
            "                   False],\n",
            "       fill_value='?',\n",
            "            dtype=object), 'params': [{'n_estimators': 1}, {'n_estimators': 3}, {'n_estimators': 5}, {'n_estimators': 7}, {'n_estimators': 9}, {'n_estimators': 11}, {'n_estimators': 13}, {'n_estimators': 15}, {'n_estimators': 17}, {'n_estimators': 19}, {'n_estimators': 21}, {'n_estimators': 23}, {'n_estimators': 25}, {'n_estimators': 27}, {'n_estimators': 29}, {'n_estimators': 31}, {'n_estimators': 33}, {'n_estimators': 35}, {'n_estimators': 37}, {'n_estimators': 39}, {'n_estimators': 41}, {'n_estimators': 43}, {'n_estimators': 45}, {'n_estimators': 47}, {'n_estimators': 49}], 'split0_test_score': array([0.79125096, 0.79125096, 0.79125096, 0.79125096, 1.        ,\n",
            "       1.        , 1.        , 1.        , 1.        , 1.        ,\n",
            "       1.        , 1.        , 1.        , 1.        , 1.        ,\n",
            "       1.        , 1.        , 1.        , 1.        , 1.        ,\n",
            "       1.        , 1.        , 1.        , 1.        , 1.        ]), 'split1_test_score': array([0.96316193, 0.96316193, 0.96316193, 0.96316193, 0.98158097,\n",
            "       0.99539524, 0.99539524, 0.99539524, 0.99539524, 0.99539524,\n",
            "       0.99539524, 0.99539524, 0.99539524, 0.99155794, 0.99309286,\n",
            "       0.99539524, 0.99923254, 0.99923254, 0.99923254, 0.99923254,\n",
            "       0.99923254, 0.99923254, 0.99923254, 0.99923254, 0.99923254]), 'split2_test_score': array([0.80122794, 0.80122794, 0.80122794, 0.80122794, 0.7943208 ,\n",
            "       0.80122794, 0.94934766, 0.94934766, 0.94934766, 0.94934766,\n",
            "       0.94934766, 0.94934766, 0.94934766, 0.94934766, 0.94934766,\n",
            "       0.94934766, 0.94934766, 0.94934766, 0.94934766, 0.94934766,\n",
            "       0.94934766, 0.94934766, 0.94934766, 0.94934766, 0.94934766]), 'split3_test_score': array([0.9984639, 0.9984639, 1.       , 0.9984639, 0.9984639, 0.9984639,\n",
            "       0.9984639, 0.9984639, 0.9984639, 0.9984639, 0.9984639, 0.9984639,\n",
            "       0.9984639, 0.9984639, 1.       , 1.       , 1.       , 1.       ,\n",
            "       1.       , 1.       , 1.       , 1.       , 1.       , 1.       ,\n",
            "       1.       ]), 'split4_test_score': array([0.97311828, 0.97311828, 0.97311828, 0.97311828, 0.94930876,\n",
            "       0.94930876, 0.92165899, 0.92165899, 0.94930876, 0.94930876,\n",
            "       0.94930876, 0.94930876, 0.94930876, 0.94930876, 0.97235023,\n",
            "       0.97235023, 0.97235023, 0.97235023, 0.97235023, 0.97235023,\n",
            "       0.97235023, 0.97235023, 0.97235023, 0.97235023, 0.97235023]), 'mean_test_score': array([0.90541993, 0.90541993, 0.90572701, 0.90541993, 0.94472593,\n",
            "       0.94887149, 0.97297712, 0.97297712, 0.97850453, 0.97850453,\n",
            "       0.97850453, 0.97850453, 0.97850453, 0.97773683, 0.98295716,\n",
            "       0.98341778, 0.98418548, 0.98418548, 0.98418548, 0.98418548,\n",
            "       0.98418548, 0.98418548, 0.98418548, 0.98418548, 0.98418548]), 'std_test_score': array([0.08996352, 0.08996352, 0.09028264, 0.08996352, 0.07739632,\n",
            "       0.07621526, 0.0318538 , 0.0318538 , 0.02386696, 0.02386696,\n",
            "       0.02386696, 0.02386696, 0.02386696, 0.02336781, 0.0196267 ,\n",
            "       0.01988449, 0.0203995 , 0.0203995 , 0.0203995 , 0.0203995 ,\n",
            "       0.0203995 , 0.0203995 , 0.0203995 , 0.0203995 , 0.0203995 ]), 'rank_test_score': array([23, 23, 22, 23, 21, 20, 18, 18, 12, 12, 12, 12, 12, 17, 11, 10,  1,\n",
            "        1,  1,  1,  1,  1,  1,  1,  1], dtype=int32)}\n",
            "{'n_estimators': 33}\n",
            "0.9841854752034392\n"
          ],
          "name": "stdout"
        }
      ]
    },
    {
      "cell_type": "markdown",
      "metadata": {
        "id": "eQwcKvio0KVf",
        "colab_type": "text"
      },
      "source": [
        "# testing"
      ]
    },
    {
      "cell_type": "code",
      "metadata": {
        "id": "3sPBZYs40KVg",
        "colab_type": "code",
        "colab": {
          "base_uri": "https://localhost:8080/",
          "height": 35
        },
        "outputId": "f021bb54-4dd1-4462-900b-5a68623aaa63"
      },
      "source": [
        "#make prediction\n",
        "preds = clf.predict(X_test)\n",
        "predictions = [round(value) for value in preds]\n",
        "\n",
        "test_accuracy = accuracy_score(y_test, predictions)\n",
        "print(\"Test Accuracy of gridsearchcv: %.2f%%\" % (test_accuracy * 100.0))"
      ],
      "execution_count": 15,
      "outputs": [
        {
          "output_type": "stream",
          "text": [
            "Test Accuracy of gridsearchcv: 97.27%\n"
          ],
          "name": "stdout"
        }
      ]
    }
  ]
}