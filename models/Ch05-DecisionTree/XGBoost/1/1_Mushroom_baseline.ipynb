{
  "nbformat": 4,
  "nbformat_minor": 0,
  "metadata": {
    "kernelspec": {
      "name": "python3",
      "display_name": "Python 3"
    },
    "colab": {
      "name": "1_Mushroom_baseline.ipynb",
      "version": "0.3.2",
      "provenance": [],
      "toc_visible": true,
      "include_colab_link": true
    },
    "accelerator": "GPU"
  },
  "cells": [
    {
      "cell_type": "markdown",
      "metadata": {
        "id": "view-in-github",
        "colab_type": "text"
      },
      "source": [
        "<a href=\"https://colab.research.google.com/github/pengfei123xiao/ML_Basic/blob/master/models/Ch05-DecisionTree/XGBoost/1/1_Mushroom_baseline.ipynb\" target=\"_parent\"><img src=\"https://colab.research.google.com/assets/colab-badge.svg\" alt=\"Open In Colab\"/></a>"
      ]
    },
    {
      "cell_type": "markdown",
      "metadata": {
        "id": "wbWDa7BKPkp-",
        "colab_type": "text"
      },
      "source": [
        "# Directly use XGBoost"
      ]
    },
    {
      "cell_type": "markdown",
      "metadata": {
        "id": "U-avW6SCPkqA",
        "colab_type": "text"
      },
      "source": [
        "## environment setting"
      ]
    },
    {
      "cell_type": "code",
      "metadata": {
        "id": "5Nj3V5MgPkqB",
        "colab_type": "code",
        "colab": {}
      },
      "source": [
        "import xgboost as xgb\n",
        "from sklearn.metrics import accuracy_score"
      ],
      "execution_count": 0,
      "outputs": []
    },
    {
      "cell_type": "markdown",
      "metadata": {
        "id": "T4x9AqdNPkqE",
        "colab_type": "text"
      },
      "source": [
        "## 数据读取"
      ]
    },
    {
      "cell_type": "markdown",
      "metadata": {
        "id": "NQjj3INTPkqF",
        "colab_type": "text"
      },
      "source": [
        "XGBoost可以加载libsvm格式的文本数据，libsvm的文件格式（稀疏特征）如下：\n",
        "1 101:1.2 102:0.03\n",
        "0 1:2.1 10001:300 10002:400\n",
        "...\n",
        "\n",
        "每一行表示一个样本，第一行的开头的“1”是样本的标签。“101”和“102”为特征索引，'1.2'和'0.03' 为特征的值。\n",
        "在两类分类中，用“1”表示正样本，用“0” 表示负样本。也支持[0,1]表示概率用来做标签，表示为正样本的概率。\n",
        "\n",
        "下面的示例数据需要我们通过一些蘑菇的若干属性判断这个品种是否有毒。\n",
        "UCI数据描述：http://archive.ics.uci.edu/ml/machine-learning-databases/mushroom/ ，\n",
        "每个样本描述了蘑菇的22个属性，比如形状、气味等等（将22维原始特征用加工后变成了126维特征，\n",
        "并存为libsvm格式)，然后给出了这个蘑菇是否可食用。其中6513个样本做训练，1611个样本做测试。\n",
        "\n",
        "XGBoost加载的数据存储在对象DMatrix中\n",
        "XGBoost自定义了一个数据矩阵类DMatrix，优化了存储和运算速度\n",
        "DMatrix文档：http://xgboost.readthedocs.io/en/latest/python/python_api.html"
      ]
    },
    {
      "cell_type": "code",
      "metadata": {
        "id": "r4afhSkPPkqG",
        "colab_type": "code",
        "colab": {
          "base_uri": "https://localhost:8080/",
          "height": 52
        },
        "outputId": "2c250df0-f0f0-490e-98a3-4514f2a1db74"
      },
      "source": [
        "# read in data，数据在xgboost安装的路径下的demo目录,现在我们将其copy到当前代码下的data目录\n",
        "my_workpath = './data/'\n",
        "# dtrain = xgb.DMatrix(my_workpath + 'agaricus.txt.train')\n",
        "# dtest = xgb.DMatrix(my_workpath + 'agaricus.txt.test')\n",
        "dtrain = xgb.DMatrix('agaricus.txt.train')\n",
        "dtest = xgb.DMatrix('agaricus.txt.test')"
      ],
      "execution_count": 14,
      "outputs": [
        {
          "output_type": "stream",
          "text": [
            "[14:52:31] 6513x127 matrix with 143286 entries loaded from agaricus.txt.train\n",
            "[14:52:31] 1611x127 matrix with 35442 entries loaded from agaricus.txt.test\n"
          ],
          "name": "stdout"
        }
      ]
    },
    {
      "cell_type": "markdown",
      "metadata": {
        "id": "3BDL_TUDPkqJ",
        "colab_type": "text"
      },
      "source": [
        "查看数据情况"
      ]
    },
    {
      "cell_type": "code",
      "metadata": {
        "id": "YoeK0mNUPkqK",
        "colab_type": "code",
        "colab": {
          "base_uri": "https://localhost:8080/",
          "height": 35
        },
        "outputId": "436b75a9-0a13-4f61-a735-06a706482dcc"
      },
      "source": [
        "dtrain.num_col()"
      ],
      "execution_count": 15,
      "outputs": [
        {
          "output_type": "execute_result",
          "data": {
            "text/plain": [
              "127"
            ]
          },
          "metadata": {
            "tags": []
          },
          "execution_count": 15
        }
      ]
    },
    {
      "cell_type": "code",
      "metadata": {
        "id": "1dRmnzoQPkqP",
        "colab_type": "code",
        "colab": {
          "base_uri": "https://localhost:8080/",
          "height": 35
        },
        "outputId": "e81a606b-2c12-4247-aca4-6d50ccfbfe33"
      },
      "source": [
        "dtrain.num_row()"
      ],
      "execution_count": 16,
      "outputs": [
        {
          "output_type": "execute_result",
          "data": {
            "text/plain": [
              "6513"
            ]
          },
          "metadata": {
            "tags": []
          },
          "execution_count": 16
        }
      ]
    },
    {
      "cell_type": "code",
      "metadata": {
        "id": "CHPkgYb0PkqS",
        "colab_type": "code",
        "colab": {
          "base_uri": "https://localhost:8080/",
          "height": 35
        },
        "outputId": "75363630-9999-44cb-f85b-549293eefe40"
      },
      "source": [
        "dtest.num_row()"
      ],
      "execution_count": 17,
      "outputs": [
        {
          "output_type": "execute_result",
          "data": {
            "text/plain": [
              "1611"
            ]
          },
          "metadata": {
            "tags": []
          },
          "execution_count": 17
        }
      ]
    },
    {
      "cell_type": "markdown",
      "metadata": {
        "id": "Q2gooyyXPkqW",
        "colab_type": "text"
      },
      "source": [
        "## 训练参数设置"
      ]
    },
    {
      "cell_type": "markdown",
      "metadata": {
        "id": "SWQ7gCLNPkqW",
        "colab_type": "text"
      },
      "source": [
        "max_depth： 树的最大深度。缺省值为6，取值范围为：[1,∞]\n",
        "eta：为了防止过拟合，更新过程中用到的收缩步长。在每次提升计算之后，算法会直接获得新特征的权重。 \n",
        "eta通过缩减特征的权重使提升计算过程更加保守。缺省值为0.3，取值范围为：[0,1]\n",
        "silent：取0时表示打印出运行时信息，取1时表示以缄默方式运行，不打印运行时信息。缺省值为0\n",
        "objective： 定义学习任务及相应的学习目标，“binary:logistic” 表示二分类的逻辑回归问题，输出为概率。\n",
        "\n",
        "其他参数取默认值。"
      ]
    },
    {
      "cell_type": "code",
      "metadata": {
        "id": "0Z9rQsRaPkqX",
        "colab_type": "code",
        "colab": {
          "base_uri": "https://localhost:8080/",
          "height": 35
        },
        "outputId": "76236fe6-a780-4939-d624-f165d4ed02b2"
      },
      "source": [
        "# specify parameters via map\n",
        "param = {'max_depth':2, 'eta':1, 'silent':0, 'objective':'binary:logistic' }\n",
        "print(param)"
      ],
      "execution_count": 18,
      "outputs": [
        {
          "output_type": "stream",
          "text": [
            "{'max_depth': 2, 'eta': 1, 'silent': 0, 'objective': 'binary:logistic'}\n"
          ],
          "name": "stdout"
        }
      ]
    },
    {
      "cell_type": "markdown",
      "metadata": {
        "id": "lRO6Et8BPkqa",
        "colab_type": "text"
      },
      "source": [
        "## 训练模型"
      ]
    },
    {
      "cell_type": "markdown",
      "metadata": {
        "id": "umoWCRMwPkqb",
        "colab_type": "text"
      },
      "source": [
        "有了参数列表和数据就可以训练模型了 "
      ]
    },
    {
      "cell_type": "code",
      "metadata": {
        "id": "RCX0vmcTPkqc",
        "colab_type": "code",
        "colab": {
          "base_uri": "https://localhost:8080/",
          "height": 35
        },
        "outputId": "fecf5a62-4a49-4ccd-f563-32b6a620b448"
      },
      "source": [
        "# 设置boosting迭代计算次数\n",
        "num_round = 2\n",
        "\n",
        "import time\n",
        "starttime = time.clock()\n",
        "\n",
        "bst = xgb.train(param, dtrain, num_round)\n",
        "\n",
        "endtime = time.clock()\n",
        "print(endtime - starttime)"
      ],
      "execution_count": 19,
      "outputs": [
        {
          "output_type": "stream",
          "text": [
            "0.3503689999999997\n"
          ],
          "name": "stdout"
        }
      ]
    },
    {
      "cell_type": "markdown",
      "metadata": {
        "id": "T3VjI9AYPkqf",
        "colab_type": "text"
      },
      "source": [
        "查看模型在训练集上的分类性能"
      ]
    },
    {
      "cell_type": "markdown",
      "metadata": {
        "id": "ZWFVw8O9Pkqg",
        "colab_type": "text"
      },
      "source": [
        "XGBoost预测的输出是概率。这里蘑菇分类是一个二类分类问题，输出值是样本为第一类的概率。\n",
        "我们需要将概率值转换为0或1。"
      ]
    },
    {
      "cell_type": "code",
      "metadata": {
        "id": "KtJihKe6Pkqg",
        "colab_type": "code",
        "colab": {
          "base_uri": "https://localhost:8080/",
          "height": 35
        },
        "outputId": "d3c9aa42-fb0b-429a-fe80-f81741f9943e"
      },
      "source": [
        "train_preds = bst.predict(dtrain)\n",
        "train_predictions = [round(value) for value in train_preds]\n",
        "y_train = dtrain.get_label()\n",
        "train_accuracy = accuracy_score(y_train, train_predictions)\n",
        "print (\"Train Accuary: %.2f%%\" % (train_accuracy * 100.0))"
      ],
      "execution_count": 20,
      "outputs": [
        {
          "output_type": "stream",
          "text": [
            "Train Accuary: 97.77%\n"
          ],
          "name": "stdout"
        }
      ]
    },
    {
      "cell_type": "markdown",
      "metadata": {
        "id": "rE5v716xPkqj",
        "colab_type": "text"
      },
      "source": [
        "## 测试"
      ]
    },
    {
      "cell_type": "markdown",
      "metadata": {
        "id": "amIRcgGqPkqk",
        "colab_type": "text"
      },
      "source": [
        "模型训练好后，可以用训练好的模型对测试数据进行预测"
      ]
    },
    {
      "cell_type": "code",
      "metadata": {
        "id": "G6d7aUXaPkql",
        "colab_type": "code",
        "colab": {}
      },
      "source": [
        "# make prediction\n",
        "preds = bst.predict(dtest)"
      ],
      "execution_count": 0,
      "outputs": []
    },
    {
      "cell_type": "markdown",
      "metadata": {
        "id": "NvidiUAVPkqn",
        "colab_type": "text"
      },
      "source": [
        "检查模型在测试集上的正确率\n",
        "XGBoost预测的输出是概率，输出值是样本为第一类的概率。我们需要将概率值转换为0或1。"
      ]
    },
    {
      "cell_type": "code",
      "metadata": {
        "id": "ErsgQS_1Pkqo",
        "colab_type": "code",
        "colab": {}
      },
      "source": [
        "predictions = [round(value) for value in preds]"
      ],
      "execution_count": 0,
      "outputs": []
    },
    {
      "cell_type": "code",
      "metadata": {
        "id": "nAZOqUpUPkqq",
        "colab_type": "code",
        "colab": {
          "base_uri": "https://localhost:8080/",
          "height": 35
        },
        "outputId": "b1c14c59-ee7d-4731-99e5-844e5e41f5f9"
      },
      "source": [
        "y_test = dtest.get_label()\n",
        "test_accuracy = accuracy_score(y_test, predictions)\n",
        "print(\"Test Accuracy: %.2f%%\" % (test_accuracy * 100.0))"
      ],
      "execution_count": 23,
      "outputs": [
        {
          "output_type": "stream",
          "text": [
            "Test Accuracy: 97.83%\n"
          ],
          "name": "stdout"
        }
      ]
    },
    {
      "cell_type": "markdown",
      "metadata": {
        "id": "2T_5Ydk0Pkqu",
        "colab_type": "text"
      },
      "source": [
        "## 模型可视化"
      ]
    },
    {
      "cell_type": "markdown",
      "metadata": {
        "id": "nvmSnx2NPkqv",
        "colab_type": "text"
      },
      "source": [
        "调用XGBoost工具包中的plot_tree，在显示\n",
        "要可视化模型需要安装graphviz软件包（请见预备0）\n",
        "\n",
        "plot_tree（）的三个参数：\n",
        "1. 模型\n",
        "2. 树的索引，从0开始\n",
        "3. 显示方向，缺省为竖直，‘LR'是水平方向"
      ]
    },
    {
      "cell_type": "code",
      "metadata": {
        "id": "b0GVDk50Pkqv",
        "colab_type": "code",
        "colab": {
          "base_uri": "https://localhost:8080/",
          "height": 525
        },
        "outputId": "d87af00d-6dcc-4e18-bdd5-b0cb346ec833"
      },
      "source": [
        "from matplotlib import pyplot\n",
        "import graphviz\n",
        "xgb.plot_tree(bst, num_trees=0, rankdir= 'LR' )\n",
        "pyplot.show()\n",
        "\n",
        "xgb.plot_tree(bst,num_trees=1, rankdir= 'LR' )\n",
        "pyplot.show()\n",
        "xgb.to_graphviz(bst,num_trees=0)\n",
        "xgb.to_graphviz(bst,num_trees=1)"
      ],
      "execution_count": 25,
      "outputs": [
        {
          "output_type": "display_data",
          "data": {
            "image/png": "[encoded data removed]",
            "text/plain": [
              "<Figure size 432x288 with 1 Axes>"
            ]
          },
          "metadata": {
            "tags": []
          }
        },
        {
          "output_type": "display_data",
          "data": {
            "image/png": "[encoded data removed]",
            "text/plain": [
              "<Figure size 432x288 with 1 Axes>"
            ]
          },
          "metadata": {
            "tags": []
          }
        },
        {
          "output_type": "execute_result",
          "data": {
            "text/plain": [
              "<graphviz.dot.Digraph at 0x7ff021fd8fd0>"
            ],
            "image/svg+xml": "<?xml version=\"1.0\" encoding=\"UTF-8\" standalone=\"no\"?>\n<!DOCTYPE svg PUBLIC \"-//W3C//DTD SVG 1.1//EN\"\n \"http://www.w3.org/Graphics/SVG/1.1/DTD/svg11.dtd\">\n<!-- Generated by graphviz version 2.40.1 (20161225.0304)\n -->\n<!-- Title: %3 Pages: 1 -->\n<svg width=\"442pt\" height=\"218pt\"\n viewBox=\"0.00 0.00 442.04 218.00\" xmlns=\"http://www.w3.org/2000/svg\" xmlns:xlink=\"http://www.w3.org/1999/xlink\">\n<g id=\"graph0\" class=\"graph\" transform=\"scale(1 1) rotate(0) translate(4 214)\">\n<title>%3</title>\n<polygon fill=\"#ffffff\" stroke=\"transparent\" points=\"-4,4 -4,-214 438.0363,-214 438.0363,4 -4,4\"/>\n<!-- 0 -->\n<g id=\"node1\" class=\"node\">\n<title>0</title>\n<ellipse fill=\"none\" stroke=\"#000000\" cx=\"259.3933\" cy=\"-192\" rx=\"94.7833\" ry=\"18\"/>\n<text text-anchor=\"middle\" x=\"259.3933\" y=\"-188.3\" font-family=\"Times,serif\" font-size=\"14.00\" fill=\"#000000\">f60&lt;&#45;9.53674316e&#45;07</text>\n</g>\n<!-- 1 -->\n<g id=\"node2\" class=\"node\">\n<title>1</title>\n<ellipse fill=\"none\" stroke=\"#000000\" cx=\"163.3933\" cy=\"-105\" rx=\"94.7833\" ry=\"18\"/>\n<text text-anchor=\"middle\" x=\"163.3933\" y=\"-101.3\" font-family=\"Times,serif\" font-size=\"14.00\" fill=\"#000000\">f29&lt;&#45;9.53674316e&#45;07</text>\n</g>\n<!-- 0&#45;&gt;1 -->\n<g id=\"edge1\" class=\"edge\">\n<title>0&#45;&gt;1</title>\n<path fill=\"none\" stroke=\"#0000ff\" d=\"M239.502,-173.9735C225.3782,-161.1738 206.2411,-143.8308 190.6902,-129.7379\"/>\n<polygon fill=\"#0000ff\" stroke=\"#0000ff\" points=\"192.6908,-126.8275 182.9306,-122.7057 187.9902,-132.0144 192.6908,-126.8275\"/>\n<text text-anchor=\"middle\" x=\"252.8933\" y=\"-144.8\" font-family=\"Times,serif\" font-size=\"14.00\" fill=\"#000000\">yes, missing</text>\n</g>\n<!-- 2 -->\n<g id=\"node3\" class=\"node\">\n<title>2</title>\n<ellipse fill=\"none\" stroke=\"#000000\" cx=\"355.3933\" cy=\"-105\" rx=\"78.7863\" ry=\"18\"/>\n<text text-anchor=\"middle\" x=\"355.3933\" y=\"-101.3\" font-family=\"Times,serif\" font-size=\"14.00\" fill=\"#000000\">leaf=&#45;6.23624468</text>\n</g>\n<!-- 0&#45;&gt;2 -->\n<g id=\"edge2\" class=\"edge\">\n<title>0&#45;&gt;2</title>\n<path fill=\"none\" stroke=\"#ff0000\" d=\"M279.2846,-173.9735C293.4084,-161.1738 312.5456,-143.8308 328.0964,-129.7379\"/>\n<polygon fill=\"#ff0000\" stroke=\"#ff0000\" points=\"330.7964,-132.0144 335.856,-122.7057 326.0958,-126.8275 330.7964,-132.0144\"/>\n<text text-anchor=\"middle\" x=\"321.3933\" y=\"-144.8\" font-family=\"Times,serif\" font-size=\"14.00\" fill=\"#000000\">no</text>\n</g>\n<!-- 3 -->\n<g id=\"node4\" class=\"node\">\n<title>3</title>\n<ellipse fill=\"none\" stroke=\"#000000\" cx=\"75.3933\" cy=\"-18\" rx=\"75.2868\" ry=\"18\"/>\n<text text-anchor=\"middle\" x=\"75.3933\" y=\"-14.3\" font-family=\"Times,serif\" font-size=\"14.00\" fill=\"#000000\">leaf=0.78471756</text>\n</g>\n<!-- 1&#45;&gt;3 -->\n<g id=\"edge3\" class=\"edge\">\n<title>1&#45;&gt;3</title>\n<path fill=\"none\" stroke=\"#0000ff\" d=\"M145.1597,-86.9735C132.2128,-74.1738 114.6704,-56.8308 100.4155,-42.7379\"/>\n<polygon fill=\"#0000ff\" stroke=\"#0000ff\" points=\"102.8746,-40.2473 93.3025,-35.7057 97.9532,-45.2253 102.8746,-40.2473\"/>\n<text text-anchor=\"middle\" x=\"160.8933\" y=\"-57.8\" font-family=\"Times,serif\" font-size=\"14.00\" fill=\"#000000\">yes, missing</text>\n</g>\n<!-- 4 -->\n<g id=\"node5\" class=\"node\">\n<title>4</title>\n<ellipse fill=\"none\" stroke=\"#000000\" cx=\"252.3933\" cy=\"-18\" rx=\"83.3857\" ry=\"18\"/>\n<text text-anchor=\"middle\" x=\"252.3933\" y=\"-14.3\" font-family=\"Times,serif\" font-size=\"14.00\" fill=\"#000000\">leaf=&#45;0.968530357</text>\n</g>\n<!-- 1&#45;&gt;4 -->\n<g id=\"edge4\" class=\"edge\">\n<title>1&#45;&gt;4</title>\n<path fill=\"none\" stroke=\"#ff0000\" d=\"M181.8511,-87.0692C187.7775,-81.3045 194.3668,-74.887 200.3933,-69 208.9808,-60.6112 218.3505,-51.4304 226.7412,-43.1986\"/>\n<polygon fill=\"#ff0000\" stroke=\"#ff0000\" points=\"229.4357,-45.4582 234.1212,-35.9557 224.5325,-40.4622 229.4357,-45.4582\"/>\n<text text-anchor=\"middle\" x=\"223.3933\" y=\"-57.8\" font-family=\"Times,serif\" font-size=\"14.00\" fill=\"#000000\">no</text>\n</g>\n</g>\n</svg>\n"
          },
          "metadata": {
            "tags": []
          },
          "execution_count": 25
        }
      ]
    }
  ]
}