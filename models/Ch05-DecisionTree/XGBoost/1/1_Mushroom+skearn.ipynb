{
  "nbformat": 4,
  "nbformat_minor": 0,
  "metadata": {
    "kernelspec": {
      "name": "python3",
      "display_name": "Python 3"
    },
    "colab": {
      "name": "1_Mushroom+skearn.ipynb",
      "version": "0.3.2",
      "provenance": [],
      "collapsed_sections": [
        "BPQH_z8mGrQD",
        "W9bhSmNfJAAV"
      ],
      "toc_visible": true,
      "include_colab_link": true
    },
    "accelerator": "GPU"
  },
  "cells": [
    {
      "cell_type": "markdown",
      "metadata": {
        "id": "view-in-github",
        "colab_type": "text"
      },
      "source": [
        "<a href=\"https://colab.research.google.com/github/pengfei123xiao/ML_Basic/blob/master/models/Ch05-DecisionTree/XGBoost/1/1_Mushroom%2Bskearn.ipynb\" target=\"_parent\"><img src=\"https://colab.research.google.com/assets/colab-badge.svg\" alt=\"Open In Colab\"/></a>"
      ]
    },
    {
      "cell_type": "markdown",
      "metadata": {
        "id": "i0HRXUaMGrPw",
        "colab_type": "text"
      },
      "source": [
        "## XGBoost+sklearn"
      ]
    },
    {
      "cell_type": "code",
      "metadata": {
        "id": "ryj73vEOGrPy",
        "colab_type": "code",
        "colab": {}
      },
      "source": [
        "from xgboost import XGBClassifier\n",
        "from sklearn.datasets import load_svmlight_file\n",
        "from sklearn.model_selection import train_test_split, StratifiedKFold, KFold, GridSearchCV\n",
        "from sklearn.model_selection import cross_val_score\n",
        "from sklearn.metrics import accuracy_score\n",
        "from matplotlib import pyplot"
      ],
      "execution_count": 0,
      "outputs": []
    },
    {
      "cell_type": "markdown",
      "metadata": {
        "id": "q_KAYUWXGrP1",
        "colab_type": "text"
      },
      "source": [
        "### load data"
      ]
    },
    {
      "cell_type": "markdown",
      "metadata": {
        "id": "omKQPWwFGrP2",
        "colab_type": "text"
      },
      "source": [
        "scikit-learn支持多种格式的数据，包括LibSVM格式数据\n",
        "XGBoost可以加载libsvm格式的文本数据，libsvm的文件格式（稀疏特征）如下：\n",
        "1 101:1.2 102:0.03\n",
        "0 1:2.1 10001:300 10002:400\n",
        "...\n",
        "\n",
        "每一行表示一个样本，第一行的开头的“1”是样本的标签。“101”和“102”为特征索引，'1.2'和'0.03' 为特征的值。\n",
        "在两类分类中，用“1”表示正样本，用“0” 表示负样本。也支持[0,1]表示概率用来做标签，表示为正样本的概率。\n",
        "\n",
        "下面的示例数据需要我们通过一些蘑菇的若干属性判断这个品种是否有毒。\n",
        "UCI数据描述：http://archive.ics.uci.edu/ml/machine-learning-databases/mushroom/ ，\n",
        "每个样本描述了蘑菇的22个属性，比如形状、气味等等(加工成libsvm格式后变成了126维特征)，\n",
        "然后给出了这个蘑菇是否可食用。其中6513个样本做训练，1611个样本做测试。\n",
        "\n",
        "XGBoost加载的数据存储在对象DMatrix中\n",
        "XGBoost自定义了一个数据矩阵类DMatrix，优化了存储和运算速度\n",
        "DMatrix文档：http://xgboost.readthedocs.io/en/latest/python/python_api.html"
      ]
    },
    {
      "cell_type": "code",
      "metadata": {
        "id": "rAewcJdZGrP3",
        "colab_type": "code",
        "outputId": "72a9bd65-81cf-4843-8e1f-2a3b1a6c5be0",
        "colab": {
          "base_uri": "https://localhost:8080/",
          "height": 52
        }
      },
      "source": [
        "# read in data\n",
        "my_workpath = './data/'\n",
        "# X_train,y_train = load_svmlight_file(my_workpath + 'agaricus.txt.train')\n",
        "# X_test,y_test = load_svmlight_file(my_workpath + 'agaricus.txt.test')\n",
        "\n",
        "X_train,y_train = load_svmlight_file('agaricus.txt.train')\n",
        "X_test,y_test = load_svmlight_file('agaricus.txt.test')\n",
        "print(X_train.shape)\n",
        "print(X_test.shape)"
      ],
      "execution_count": 3,
      "outputs": [
        {
          "output_type": "stream",
          "text": [
            "(6513, 126)\n",
            "(1611, 126)\n"
          ],
          "name": "stdout"
        }
      ]
    },
    {
      "cell_type": "markdown",
      "metadata": {
        "id": "YFCWiqGYJ3o_",
        "colab_type": "text"
      },
      "source": [
        "### train_test_split"
      ]
    },
    {
      "cell_type": "code",
      "metadata": {
        "id": "JEuZHj95J_Ah",
        "colab_type": "code",
        "outputId": "1b8c16e3-bd7e-4ec8-b4d3-8869a397acb4",
        "colab": {
          "base_uri": "https://localhost:8080/",
          "height": 52
        }
      },
      "source": [
        "# split data into train and test sets\n",
        "seed = 7\n",
        "test_size = 0.33\n",
        "X_train_part, X_validate, y_train_part, y_validate= train_test_split(X_train, y_train, test_size=test_size,\n",
        "    random_state=seed)\n",
        "\n",
        "print(X_train_part.shape)\n",
        "print(X_validate.shape)"
      ],
      "execution_count": 4,
      "outputs": [
        {
          "output_type": "stream",
          "text": [
            "(4363, 126)\n",
            "(2150, 126)\n"
          ],
          "name": "stdout"
        }
      ]
    },
    {
      "cell_type": "markdown",
      "metadata": {
        "id": "DNVmIxTXGrP5",
        "colab_type": "text"
      },
      "source": [
        "### params setting\n",
        "max_depth： 树的最大深度。缺省值为6，取值范围为：[1,∞] eta：为了防止过拟合，更新过程中用到的收缩步长。在每次提升计算之后，算法会直接获得新特征的权重。 eta通过缩减特征的权重使提升计算过程更加保守。缺省值为0.3，取值范围为：[0,1] silent：取0时表示打印出运行时信息，取1时表示以缄默方式运行，不打印运行时信息。缺省值为0 objective： 定义学习任务及相应的学习目标，“binary:logistic” 表示二分类的逻辑回归问题，输出为概率。\n",
        "\n",
        "其他参数取默认值"
      ]
    },
    {
      "cell_type": "code",
      "metadata": {
        "id": "qUK-JmIfGrP6",
        "colab_type": "code",
        "outputId": "43a3065e-43a3-42d6-c7d1-33e48200446b",
        "colab": {
          "base_uri": "https://localhost:8080/",
          "height": 35
        }
      },
      "source": [
        "# specify parameters via map\n",
        "params = {'max_depth':2, 'eta':1, 'silent':0, 'objective':'binary:logistic' }\n",
        "print(params)"
      ],
      "execution_count": 5,
      "outputs": [
        {
          "output_type": "stream",
          "text": [
            "{'max_depth': 2, 'eta': 1, 'silent': 0, 'objective': 'binary:logistic'}\n"
          ],
          "name": "stdout"
        }
      ]
    },
    {
      "cell_type": "markdown",
      "metadata": {
        "id": "t1M0OZ-HGrQA",
        "colab_type": "text"
      },
      "source": [
        "### build models"
      ]
    },
    {
      "cell_type": "code",
      "metadata": {
        "id": "mhEZY50KGrQB",
        "colab_type": "code",
        "colab": {}
      },
      "source": [
        "# 设置boosting迭代计算次数\n",
        "num_round = 100\n",
        "#num_round = range(1, 101)\n",
        "#param_grid = dict(n_estimators=num_round)\n",
        "\n",
        "#bst = XGBClassifier(params)\n",
        "bst =XGBClassifier(max_depth=2, learning_rate=0.1,n_estimators=num_round, \n",
        "                   silent=True, objective='binary:logistic')"
      ],
      "execution_count": 0,
      "outputs": []
    },
    {
      "cell_type": "code",
      "metadata": {
        "id": "pLPk0qgFK0dv",
        "colab_type": "code",
        "colab": {
          "base_uri": "https://localhost:8080/",
          "height": 1000
        },
        "outputId": "8e95b394-ff64-4937-9eab-db137424a5a7"
      },
      "source": [
        "# training\n",
        "eval_set = [(X_train_part, y_train_part), (X_validate, y_validate)]\n",
        "bst.fit(X_train_part, y_train_part, early_stopping_rounds=15, eval_metric=[\"error\", \"logloss\"], eval_set=eval_set, verbose=True)"
      ],
      "execution_count": 11,
      "outputs": [
        {
          "output_type": "stream",
          "text": [
            "[0]\tvalidation_0-error:0.045611\tvalidation_0-logloss:0.614637\tvalidation_1-error:0.048372\tvalidation_1-logloss:0.615401\n",
            "Multiple eval metrics have been passed: 'validation_1-logloss' will be used for early stopping.\n",
            "\n",
            "Will train until validation_1-logloss hasn't improved in 15 rounds.\n",
            "[1]\tvalidation_0-error:0.041256\tvalidation_0-logloss:0.549907\tvalidation_1-error:0.042326\tvalidation_1-logloss:0.550696\n",
            "[2]\tvalidation_0-error:0.045611\tvalidation_0-logloss:0.49543\tvalidation_1-error:0.048372\tvalidation_1-logloss:0.496777\n",
            "[3]\tvalidation_0-error:0.041256\tvalidation_0-logloss:0.449089\tvalidation_1-error:0.042326\tvalidation_1-logloss:0.450412\n",
            "[4]\tvalidation_0-error:0.041256\tvalidation_0-logloss:0.409231\tvalidation_1-error:0.042326\tvalidation_1-logloss:0.410717\n",
            "[5]\tvalidation_0-error:0.041256\tvalidation_0-logloss:0.373748\tvalidation_1-error:0.042326\tvalidation_1-logloss:0.375653\n",
            "[6]\tvalidation_0-error:0.023378\tvalidation_0-logloss:0.343051\tvalidation_1-error:0.023256\tvalidation_1-logloss:0.344738\n",
            "[7]\tvalidation_0-error:0.041256\tvalidation_0-logloss:0.315369\tvalidation_1-error:0.042326\tvalidation_1-logloss:0.317409\n",
            "[8]\tvalidation_0-error:0.041256\tvalidation_0-logloss:0.290912\tvalidation_1-error:0.042326\tvalidation_1-logloss:0.292587\n",
            "[9]\tvalidation_0-error:0.023378\tvalidation_0-logloss:0.269356\tvalidation_1-error:0.023256\tvalidation_1-logloss:0.271103\n",
            "[10]\tvalidation_0-error:0.00573\tvalidation_0-logloss:0.249593\tvalidation_1-error:0.006512\tvalidation_1-logloss:0.251354\n",
            "[11]\tvalidation_0-error:0.01719\tvalidation_0-logloss:0.228658\tvalidation_1-error:0.017674\tvalidation_1-logloss:0.230144\n",
            "[12]\tvalidation_0-error:0.01719\tvalidation_0-logloss:0.210442\tvalidation_1-error:0.017674\tvalidation_1-logloss:0.21167\n",
            "[13]\tvalidation_0-error:0.01719\tvalidation_0-logloss:0.194562\tvalidation_1-error:0.017674\tvalidation_1-logloss:0.19555\n",
            "[14]\tvalidation_0-error:0.01719\tvalidation_0-logloss:0.1807\tvalidation_1-error:0.017674\tvalidation_1-logloss:0.181463\n",
            "[15]\tvalidation_0-error:0.01719\tvalidation_0-logloss:0.168585\tvalidation_1-error:0.017674\tvalidation_1-logloss:0.169138\n",
            "[16]\tvalidation_0-error:0.01719\tvalidation_0-logloss:0.157988\tvalidation_1-error:0.017674\tvalidation_1-logloss:0.158345\n",
            "[17]\tvalidation_0-error:0.01719\tvalidation_0-logloss:0.149407\tvalidation_1-error:0.017674\tvalidation_1-logloss:0.149731\n",
            "[18]\tvalidation_0-error:0.0259\tvalidation_0-logloss:0.140835\tvalidation_1-error:0.024651\tvalidation_1-logloss:0.140979\n",
            "[19]\tvalidation_0-error:0.022003\tvalidation_0-logloss:0.133937\tvalidation_1-error:0.020465\tvalidation_1-logloss:0.13405\n",
            "[20]\tvalidation_0-error:0.022003\tvalidation_0-logloss:0.126967\tvalidation_1-error:0.020465\tvalidation_1-logloss:0.126914\n",
            "[21]\tvalidation_0-error:0.022003\tvalidation_0-logloss:0.121386\tvalidation_1-error:0.020465\tvalidation_1-logloss:0.121303\n",
            "[22]\tvalidation_0-error:0.022003\tvalidation_0-logloss:0.115692\tvalidation_1-error:0.020465\tvalidation_1-logloss:0.115456\n",
            "[23]\tvalidation_0-error:0.022003\tvalidation_0-logloss:0.111147\tvalidation_1-error:0.020465\tvalidation_1-logloss:0.110881\n",
            "[24]\tvalidation_0-error:0.022003\tvalidation_0-logloss:0.106477\tvalidation_1-error:0.020465\tvalidation_1-logloss:0.10607\n",
            "[25]\tvalidation_0-error:0.022003\tvalidation_0-logloss:0.102434\tvalidation_1-error:0.020465\tvalidation_1-logloss:0.102319\n",
            "[26]\tvalidation_0-error:0.022003\tvalidation_0-logloss:0.098434\tvalidation_1-error:0.020465\tvalidation_1-logloss:0.09819\n",
            "[27]\tvalidation_0-error:0.022003\tvalidation_0-logloss:0.094875\tvalidation_1-error:0.020465\tvalidation_1-logloss:0.094824\n",
            "[28]\tvalidation_0-error:0.022003\tvalidation_0-logloss:0.091579\tvalidation_1-error:0.020465\tvalidation_1-logloss:0.091784\n",
            "[29]\tvalidation_0-error:0.013294\tvalidation_0-logloss:0.086202\tvalidation_1-error:0.013488\tvalidation_1-logloss:0.086807\n",
            "[30]\tvalidation_0-error:0.022003\tvalidation_0-logloss:0.083247\tvalidation_1-error:0.020465\tvalidation_1-logloss:0.083741\n",
            "[31]\tvalidation_0-error:0.022003\tvalidation_0-logloss:0.080496\tvalidation_1-error:0.020465\tvalidation_1-logloss:0.080924\n",
            "[32]\tvalidation_0-error:0.022003\tvalidation_0-logloss:0.077298\tvalidation_1-error:0.020465\tvalidation_1-logloss:0.077394\n",
            "[33]\tvalidation_0-error:0.015815\tvalidation_0-logloss:0.074507\tvalidation_1-error:0.016279\tvalidation_1-logloss:0.074765\n",
            "[34]\tvalidation_0-error:0.022003\tvalidation_0-logloss:0.071848\tvalidation_1-error:0.020465\tvalidation_1-logloss:0.071811\n",
            "[35]\tvalidation_0-error:0.010543\tvalidation_0-logloss:0.069488\tvalidation_1-error:0.009302\tvalidation_1-logloss:0.069385\n",
            "[36]\tvalidation_0-error:0.001834\tvalidation_0-logloss:0.067147\tvalidation_1-error:0.002326\tvalidation_1-logloss:0.067341\n",
            "[37]\tvalidation_0-error:0.001834\tvalidation_0-logloss:0.06504\tvalidation_1-error:0.002326\tvalidation_1-logloss:0.065406\n",
            "[38]\tvalidation_0-error:0.001834\tvalidation_0-logloss:0.062898\tvalidation_1-error:0.002326\tvalidation_1-logloss:0.063381\n",
            "[39]\tvalidation_0-error:0.001834\tvalidation_0-logloss:0.060837\tvalidation_1-error:0.002326\tvalidation_1-logloss:0.061088\n",
            "[40]\tvalidation_0-error:0.001834\tvalidation_0-logloss:0.058894\tvalidation_1-error:0.002326\tvalidation_1-logloss:0.059039\n",
            "[41]\tvalidation_0-error:0.001834\tvalidation_0-logloss:0.057112\tvalidation_1-error:0.002326\tvalidation_1-logloss:0.057326\n",
            "[42]\tvalidation_0-error:0.001834\tvalidation_0-logloss:0.055391\tvalidation_1-error:0.002326\tvalidation_1-logloss:0.05543\n",
            "[43]\tvalidation_0-error:0.001834\tvalidation_0-logloss:0.053745\tvalidation_1-error:0.002326\tvalidation_1-logloss:0.053871\n",
            "[44]\tvalidation_0-error:0.001834\tvalidation_0-logloss:0.052198\tvalidation_1-error:0.002326\tvalidation_1-logloss:0.052235\n",
            "[45]\tvalidation_0-error:0.001834\tvalidation_0-logloss:0.050776\tvalidation_1-error:0.002326\tvalidation_1-logloss:0.051033\n",
            "[46]\tvalidation_0-error:0.001834\tvalidation_0-logloss:0.049351\tvalidation_1-error:0.002326\tvalidation_1-logloss:0.04973\n",
            "[47]\tvalidation_0-error:0.001834\tvalidation_0-logloss:0.047848\tvalidation_1-error:0.002326\tvalidation_1-logloss:0.048287\n",
            "[48]\tvalidation_0-error:0.001834\tvalidation_0-logloss:0.046406\tvalidation_1-error:0.002326\tvalidation_1-logloss:0.046702\n",
            "[49]\tvalidation_0-error:0.001834\tvalidation_0-logloss:0.045141\tvalidation_1-error:0.002326\tvalidation_1-logloss:0.045492\n",
            "[50]\tvalidation_0-error:0.001834\tvalidation_0-logloss:0.043917\tvalidation_1-error:0.002326\tvalidation_1-logloss:0.044133\n",
            "[51]\tvalidation_0-error:0.001834\tvalidation_0-logloss:0.042729\tvalidation_1-error:0.002326\tvalidation_1-logloss:0.042999\n",
            "[52]\tvalidation_0-error:0.001834\tvalidation_0-logloss:0.041608\tvalidation_1-error:0.002326\tvalidation_1-logloss:0.041807\n",
            "[53]\tvalidation_0-error:0.001834\tvalidation_0-logloss:0.040493\tvalidation_1-error:0.002326\tvalidation_1-logloss:0.040855\n",
            "[54]\tvalidation_0-error:0.001834\tvalidation_0-logloss:0.039457\tvalidation_1-error:0.002326\tvalidation_1-logloss:0.039871\n",
            "[55]\tvalidation_0-error:0.001834\tvalidation_0-logloss:0.038452\tvalidation_1-error:0.002326\tvalidation_1-logloss:0.038755\n",
            "[56]\tvalidation_0-error:0.001834\tvalidation_0-logloss:0.037478\tvalidation_1-error:0.002326\tvalidation_1-logloss:0.037717\n",
            "[57]\tvalidation_0-error:0.001834\tvalidation_0-logloss:0.036439\tvalidation_1-error:0.002326\tvalidation_1-logloss:0.036777\n",
            "[58]\tvalidation_0-error:0.001834\tvalidation_0-logloss:0.035552\tvalidation_1-error:0.002326\tvalidation_1-logloss:0.035936\n",
            "[59]\tvalidation_0-error:0.001834\tvalidation_0-logloss:0.034694\tvalidation_1-error:0.002326\tvalidation_1-logloss:0.034984\n",
            "[60]\tvalidation_0-error:0.001834\tvalidation_0-logloss:0.033826\tvalidation_1-error:0.002326\tvalidation_1-logloss:0.034132\n",
            "[61]\tvalidation_0-error:0.001834\tvalidation_0-logloss:0.032959\tvalidation_1-error:0.002326\tvalidation_1-logloss:0.033348\n",
            "[62]\tvalidation_0-error:0.001834\tvalidation_0-logloss:0.032192\tvalidation_1-error:0.002326\tvalidation_1-logloss:0.032526\n",
            "[63]\tvalidation_0-error:0.001834\tvalidation_0-logloss:0.031476\tvalidation_1-error:0.002326\tvalidation_1-logloss:0.031754\n",
            "[64]\tvalidation_0-error:0.001834\tvalidation_0-logloss:0.030756\tvalidation_1-error:0.002326\tvalidation_1-logloss:0.031081\n",
            "[65]\tvalidation_0-error:0.001834\tvalidation_0-logloss:0.030038\tvalidation_1-error:0.002326\tvalidation_1-logloss:0.030377\n",
            "[66]\tvalidation_0-error:0.001834\tvalidation_0-logloss:0.029332\tvalidation_1-error:0.002326\tvalidation_1-logloss:0.029594\n",
            "[67]\tvalidation_0-error:0.001834\tvalidation_0-logloss:0.028703\tvalidation_1-error:0.002326\tvalidation_1-logloss:0.029079\n",
            "[68]\tvalidation_0-error:0.001834\tvalidation_0-logloss:0.028064\tvalidation_1-error:0.002326\tvalidation_1-logloss:0.028391\n",
            "[69]\tvalidation_0-error:0.001834\tvalidation_0-logloss:0.027404\tvalidation_1-error:0.002326\tvalidation_1-logloss:0.027725\n",
            "[70]\tvalidation_0-error:0.001834\tvalidation_0-logloss:0.026824\tvalidation_1-error:0.002326\tvalidation_1-logloss:0.027187\n",
            "[71]\tvalidation_0-error:0.001834\tvalidation_0-logloss:0.026268\tvalidation_1-error:0.002326\tvalidation_1-logloss:0.026565\n",
            "[72]\tvalidation_0-error:0.001834\tvalidation_0-logloss:0.025679\tvalidation_1-error:0.002326\tvalidation_1-logloss:0.025982\n",
            "[73]\tvalidation_0-error:0.001834\tvalidation_0-logloss:0.025153\tvalidation_1-error:0.002326\tvalidation_1-logloss:0.025413\n",
            "[74]\tvalidation_0-error:0.001834\tvalidation_0-logloss:0.02461\tvalidation_1-error:0.002326\tvalidation_1-logloss:0.024927\n",
            "[75]\tvalidation_0-error:0.001834\tvalidation_0-logloss:0.0241\tvalidation_1-error:0.002326\tvalidation_1-logloss:0.02446\n",
            "[76]\tvalidation_0-error:0.001834\tvalidation_0-logloss:0.023615\tvalidation_1-error:0.002326\tvalidation_1-logloss:0.023921\n",
            "[77]\tvalidation_0-error:0.001834\tvalidation_0-logloss:0.023118\tvalidation_1-error:0.002326\tvalidation_1-logloss:0.023423\n",
            "[78]\tvalidation_0-error:0.001834\tvalidation_0-logloss:0.022671\tvalidation_1-error:0.002326\tvalidation_1-logloss:0.023015\n",
            "[79]\tvalidation_0-error:0.001834\tvalidation_0-logloss:0.022244\tvalidation_1-error:0.002326\tvalidation_1-logloss:0.022538\n",
            "[80]\tvalidation_0-error:0.001834\tvalidation_0-logloss:0.021793\tvalidation_1-error:0.002326\tvalidation_1-logloss:0.022087\n",
            "[81]\tvalidation_0-error:0.001834\tvalidation_0-logloss:0.021396\tvalidation_1-error:0.002326\tvalidation_1-logloss:0.021654\n",
            "[82]\tvalidation_0-error:0.001834\tvalidation_0-logloss:0.020948\tvalidation_1-error:0.002326\tvalidation_1-logloss:0.021198\n",
            "[83]\tvalidation_0-error:0.001834\tvalidation_0-logloss:0.020559\tvalidation_1-error:0.002326\tvalidation_1-logloss:0.020806\n",
            "[84]\tvalidation_0-error:0.001834\tvalidation_0-logloss:0.020144\tvalidation_1-error:0.002326\tvalidation_1-logloss:0.020388\n",
            "[85]\tvalidation_0-error:0.001834\tvalidation_0-logloss:0.019775\tvalidation_1-error:0.002326\tvalidation_1-logloss:0.020057\n",
            "[86]\tvalidation_0-error:0.001834\tvalidation_0-logloss:0.019029\tvalidation_1-error:0.002326\tvalidation_1-logloss:0.019235\n",
            "[87]\tvalidation_0-error:0.001834\tvalidation_0-logloss:0.018672\tvalidation_1-error:0.002326\tvalidation_1-logloss:0.018823\n",
            "[88]\tvalidation_0-error:0.001834\tvalidation_0-logloss:0.018313\tvalidation_1-error:0.002326\tvalidation_1-logloss:0.018507\n",
            "[89]\tvalidation_0-error:0.001834\tvalidation_0-logloss:0.017989\tvalidation_1-error:0.002326\tvalidation_1-logloss:0.01815\n",
            "[90]\tvalidation_0-error:0.001834\tvalidation_0-logloss:0.017376\tvalidation_1-error:0.002326\tvalidation_1-logloss:0.01748\n",
            "[91]\tvalidation_0-error:0.001834\tvalidation_0-logloss:0.017087\tvalidation_1-error:0.002326\tvalidation_1-logloss:0.017189\n",
            "[92]\tvalidation_0-error:0.001834\tvalidation_0-logloss:0.016778\tvalidation_1-error:0.002326\tvalidation_1-logloss:0.016877\n",
            "[93]\tvalidation_0-error:0.001834\tvalidation_0-logloss:0.016458\tvalidation_1-error:0.002326\tvalidation_1-logloss:0.016527\n",
            "[94]\tvalidation_0-error:0.001834\tvalidation_0-logloss:0.015932\tvalidation_1-error:0.002326\tvalidation_1-logloss:0.015956\n",
            "[95]\tvalidation_0-error:0.001834\tvalidation_0-logloss:0.015645\tvalidation_1-error:0.002326\tvalidation_1-logloss:0.015665\n",
            "[96]\tvalidation_0-error:0.001834\tvalidation_0-logloss:0.015379\tvalidation_1-error:0.002326\tvalidation_1-logloss:0.015397\n",
            "[97]\tvalidation_0-error:0.001834\tvalidation_0-logloss:0.015116\tvalidation_1-error:0.002326\tvalidation_1-logloss:0.01513\n",
            "[98]\tvalidation_0-error:0.001834\tvalidation_0-logloss:0.014883\tvalidation_1-error:0.002326\tvalidation_1-logloss:0.014893\n",
            "[99]\tvalidation_0-error:0.001834\tvalidation_0-logloss:0.01464\tvalidation_1-error:0.002326\tvalidation_1-logloss:0.014624\n"
          ],
          "name": "stdout"
        },
        {
          "output_type": "execute_result",
          "data": {
            "text/plain": [
              "XGBClassifier(base_score=0.5, booster='gbtree', colsample_bylevel=1,\n",
              "              colsample_bynode=1, colsample_bytree=1, gamma=0,\n",
              "              learning_rate=0.1, max_delta_step=0, max_depth=2,\n",
              "              min_child_weight=1, missing=None, n_estimators=100, n_jobs=1,\n",
              "              nthread=None, objective='binary:logistic', random_state=0,\n",
              "              reg_alpha=0, reg_lambda=1, scale_pos_weight=1, seed=None,\n",
              "              silent=True, subsample=1, verbosity=1)"
            ]
          },
          "metadata": {
            "tags": []
          },
          "execution_count": 11
        }
      ]
    },
    {
      "cell_type": "markdown",
      "metadata": {
        "id": "HsbMp9AxLsjz",
        "colab_type": "text"
      },
      "source": [
        "模型在每次校验集上的性能存在模型中，可用来进一步进行分析 model.evals result() 返回一个字典：评估数据集和分数"
      ]
    },
    {
      "cell_type": "markdown",
      "metadata": {
        "id": "35GK0ByOL7IG",
        "colab_type": "text"
      },
      "source": [
        "#### Learning Curve"
      ]
    },
    {
      "cell_type": "code",
      "metadata": {
        "id": "2b6b2JwLLu-r",
        "colab_type": "code",
        "colab": {
          "base_uri": "https://localhost:8080/",
          "height": 544
        },
        "outputId": "934dfcd0-b5fc-49ae-a708-27e52e04db5f"
      },
      "source": [
        "# retrieve performance metrics\n",
        "results = bst.evals_result()\n",
        "#print(results)\n",
        "\n",
        "epochs = len(results['validation_0']['error'])\n",
        "x_axis = range(0, epochs)\n",
        "\n",
        "# plot log loss\n",
        "fig, ax = pyplot.subplots()\n",
        "ax.plot(x_axis, results['validation_0']['logloss'], label='Train')\n",
        "ax.plot(x_axis, results['validation_1']['logloss'], label='Test')\n",
        "ax.legend()\n",
        "pyplot.ylabel('Log Loss')\n",
        "pyplot.title('XGBoost Log Loss')\n",
        "pyplot.show()\n",
        "\n",
        "# plot classification error\n",
        "fig, ax = pyplot.subplots()\n",
        "ax.plot(x_axis, results['validation_0']['error'], label='Train')\n",
        "ax.plot(x_axis, results['validation_1']['error'], label='Test')\n",
        "ax.legend()\n",
        "pyplot.ylabel('Classification Error')\n",
        "pyplot.title('XGBoost Classification Error')\n",
        "pyplot.show()"
      ],
      "execution_count": 13,
      "outputs": [
        {
          "output_type": "display_data",
          "data": {
            "image/png": "[encoded data removed]",
            "text/plain": [
              "<Figure size 432x288 with 1 Axes>"
            ]
          },
          "metadata": {
            "tags": []
          }
        },
        {
          "output_type": "display_data",
          "data": {
            "image/png": "[encoded data removed]",
            "text/plain": [
              "<Figure size 432x288 with 1 Axes>"
            ]
          },
          "metadata": {
            "tags": []
          }
        }
      ]
    },
    {
      "cell_type": "markdown",
      "metadata": {
        "id": "HWcgm6iEMEBl",
        "colab_type": "text"
      },
      "source": [
        "XGBoost预测的输出是概率，输出值是样本为第一类的概率。我们需要将概率值转换为0或1。"
      ]
    },
    {
      "cell_type": "code",
      "metadata": {
        "id": "y78EochTMBst",
        "colab_type": "code",
        "colab": {
          "base_uri": "https://localhost:8080/",
          "height": 35
        },
        "outputId": "78939947-bf83-4351-e59c-a3c559675d51"
      },
      "source": [
        "# make prediction\n",
        "preds = bst.predict(X_test)\n",
        "predictions = [round(value) for value in preds]\n",
        "\n",
        "test_accuracy = accuracy_score(y_test, predictions)\n",
        "print(\"Test Accuracy: %.2f%%\" % (test_accuracy * 100.0))"
      ],
      "execution_count": 14,
      "outputs": [
        {
          "output_type": "stream",
          "text": [
            "Test Accuracy: 99.81%\n"
          ],
          "name": "stdout"
        }
      ]
    },
    {
      "cell_type": "markdown",
      "metadata": {
        "id": "BPQH_z8mGrQD",
        "colab_type": "text"
      },
      "source": [
        "### KFold CV"
      ]
    },
    {
      "cell_type": "code",
      "metadata": {
        "id": "Ka7AoRwGGrQE",
        "colab_type": "code",
        "outputId": "3b64d22c-85ce-4dca-dd55-164d6d332f74",
        "colab": {
          "base_uri": "https://localhost:8080/",
          "height": 70
        }
      },
      "source": [
        "# stratified k-fold cross validation evaluation of xgboost model\n",
        "#kfold = KFold(n_splits=10, random_state=7)\n",
        "kfold = StratifiedKFold(n_splits=10, random_state=7)\n",
        "#fit_params = {'eval_metric':\"logloss\"}\n",
        "#results = cross_val_score(bst, X_train, y_train, cv=kfold, fit_params)\n",
        "results = cross_val_score(bst, X_train, y_train, cv=kfold)\n",
        "print(results)\n",
        "print(\"CV Accuracy: %.2f%% (%.2f%%)\" % (results.mean()*100, results.std()*100))"
      ],
      "execution_count": 8,
      "outputs": [
        {
          "output_type": "stream",
          "text": [
            "[1.         1.         0.99846626 1.         0.99231951 0.9969278\n",
            " 1.         1.         0.94470046 0.9984639 ]\n",
            "CV Accuracy: 99.31% (1.63%)\n"
          ],
          "name": "stdout"
        }
      ]
    },
    {
      "cell_type": "markdown",
      "metadata": {
        "id": "W9bhSmNfJAAV",
        "colab_type": "text"
      },
      "source": [
        "### GridSearch CV"
      ]
    },
    {
      "cell_type": "code",
      "metadata": {
        "id": "UNGQc4BQI-ei",
        "colab_type": "code",
        "outputId": "a3ce5b8f-0fb9-4574-92af-e315509609e2",
        "colab": {
          "base_uri": "https://localhost:8080/",
          "height": 1000
        }
      },
      "source": [
        "# 设置boosting迭代计算次数\n",
        "param_test = {\n",
        " 'n_estimators': range(1, 51, 2)\n",
        "}\n",
        "clf = GridSearchCV(estimator = bst, param_grid = param_test, scoring='accuracy', cv=5)\n",
        "clf.fit(X_train, y_train)\n",
        "print(clf.cv_results_)\n",
        "print(clf.best_params_)\n",
        "print(clf.best_score_)"
      ],
      "execution_count": 9,
      "outputs": [
        {
          "output_type": "stream",
          "text": [
            "{'mean_fit_time': array([0.05014801, 0.05491161, 0.06279054, 0.06556134, 0.07101688,\n",
            "       0.07558894, 0.08296404, 0.0849123 , 0.09430494, 0.09832277,\n",
            "       0.10342889, 0.10593419, 0.11574636, 0.11983271, 0.12161183,\n",
            "       0.1293138 , 0.13682241, 0.13994184, 0.14528494, 0.1510622 ,\n",
            "       0.15995107, 0.1605432 , 0.16513462, 0.17253556, 0.18047833]), 'std_fit_time': array([0.00140967, 0.00153526, 0.00639187, 0.00346525, 0.00255416,\n",
            "       0.00034682, 0.00404638, 0.000671  , 0.0068852 , 0.0007681 ,\n",
            "       0.00307043, 0.00073445, 0.0061223 , 0.00468933, 0.00123494,\n",
            "       0.00223805, 0.00561143, 0.00247218, 0.00118624, 0.00317828,\n",
            "       0.00589245, 0.00361355, 0.00091462, 0.00355721, 0.00556904]), 'mean_score_time': array([0.01055059, 0.01159039, 0.01189957, 0.01056447, 0.01147585,\n",
            "       0.01074047, 0.01069932, 0.01064572, 0.01078649, 0.01079788,\n",
            "       0.0108376 , 0.01063104, 0.01067457, 0.01084852, 0.01055903,\n",
            "       0.01151848, 0.01064897, 0.01047034, 0.01227784, 0.01068492,\n",
            "       0.01068587, 0.01060481, 0.01081843, 0.01076708, 0.01092649]), 'std_score_time': array([3.52568913e-04, 1.89160250e-03, 1.58280983e-03, 1.22735569e-04,\n",
            "       1.60082078e-03, 1.04027029e-05, 1.49917891e-04, 5.51326867e-05,\n",
            "       2.80410188e-04, 1.30000852e-04, 1.44033745e-04, 1.46927403e-04,\n",
            "       5.48239570e-05, 1.94991477e-04, 1.11522048e-04, 1.29271488e-03,\n",
            "       2.12644781e-04, 1.42182366e-04, 2.80542290e-03, 1.65224412e-04,\n",
            "       7.60662735e-05, 2.34997398e-04, 1.38750469e-04, 1.48588656e-04,\n",
            "       1.58236455e-04]), 'param_n_estimators': masked_array(data=[1, 3, 5, 7, 9, 11, 13, 15, 17, 19, 21, 23, 25, 27, 29,\n",
            "                   31, 33, 35, 37, 39, 41, 43, 45, 47, 49],\n",
            "             mask=[False, False, False, False, False, False, False, False,\n",
            "                   False, False, False, False, False, False, False, False,\n",
            "                   False, False, False, False, False, False, False, False,\n",
            "                   False],\n",
            "       fill_value='?',\n",
            "            dtype=object), 'params': [{'n_estimators': 1}, {'n_estimators': 3}, {'n_estimators': 5}, {'n_estimators': 7}, {'n_estimators': 9}, {'n_estimators': 11}, {'n_estimators': 13}, {'n_estimators': 15}, {'n_estimators': 17}, {'n_estimators': 19}, {'n_estimators': 21}, {'n_estimators': 23}, {'n_estimators': 25}, {'n_estimators': 27}, {'n_estimators': 29}, {'n_estimators': 31}, {'n_estimators': 33}, {'n_estimators': 35}, {'n_estimators': 37}, {'n_estimators': 39}, {'n_estimators': 41}, {'n_estimators': 43}, {'n_estimators': 45}, {'n_estimators': 47}, {'n_estimators': 49}], 'split0_test_score': array([0.79125096, 0.79125096, 0.79125096, 0.79125096, 1.        ,\n",
            "       1.        , 1.        , 1.        , 1.        , 1.        ,\n",
            "       1.        , 1.        , 1.        , 1.        , 1.        ,\n",
            "       1.        , 1.        , 1.        , 1.        , 1.        ,\n",
            "       1.        , 1.        , 1.        , 1.        , 1.        ]), 'split1_test_score': array([0.96316193, 0.96316193, 0.96316193, 0.96316193, 0.98158097,\n",
            "       0.99539524, 0.99539524, 0.99539524, 0.99539524, 0.99539524,\n",
            "       0.99539524, 0.99539524, 0.99539524, 0.99155794, 0.99309286,\n",
            "       0.99539524, 0.99923254, 0.99923254, 0.99923254, 0.99923254,\n",
            "       0.99923254, 0.99923254, 0.99923254, 0.99923254, 0.99923254]), 'split2_test_score': array([0.80122794, 0.80122794, 0.80122794, 0.80122794, 0.7943208 ,\n",
            "       0.80122794, 0.94934766, 0.94934766, 0.94934766, 0.94934766,\n",
            "       0.94934766, 0.94934766, 0.94934766, 0.94934766, 0.94934766,\n",
            "       0.94934766, 0.94934766, 0.94934766, 0.94934766, 0.94934766,\n",
            "       0.94934766, 0.94934766, 0.94934766, 0.94934766, 0.94934766]), 'split3_test_score': array([0.9984639, 0.9984639, 1.       , 0.9984639, 0.9984639, 0.9984639,\n",
            "       0.9984639, 0.9984639, 0.9984639, 0.9984639, 0.9984639, 0.9984639,\n",
            "       0.9984639, 0.9984639, 1.       , 1.       , 1.       , 1.       ,\n",
            "       1.       , 1.       , 1.       , 1.       , 1.       , 1.       ,\n",
            "       1.       ]), 'split4_test_score': array([0.97311828, 0.97311828, 0.97311828, 0.97311828, 0.94930876,\n",
            "       0.94930876, 0.92165899, 0.92165899, 0.94930876, 0.94930876,\n",
            "       0.94930876, 0.94930876, 0.94930876, 0.94930876, 0.97235023,\n",
            "       0.97235023, 0.97235023, 0.97235023, 0.97235023, 0.97235023,\n",
            "       0.97235023, 0.97235023, 0.97235023, 0.97235023, 0.97235023]), 'mean_test_score': array([0.90541993, 0.90541993, 0.90572701, 0.90541993, 0.94472593,\n",
            "       0.94887149, 0.97297712, 0.97297712, 0.97850453, 0.97850453,\n",
            "       0.97850453, 0.97850453, 0.97850453, 0.97773683, 0.98295716,\n",
            "       0.98341778, 0.98418548, 0.98418548, 0.98418548, 0.98418548,\n",
            "       0.98418548, 0.98418548, 0.98418548, 0.98418548, 0.98418548]), 'std_test_score': array([0.08996352, 0.08996352, 0.09028264, 0.08996352, 0.07739632,\n",
            "       0.07621526, 0.0318538 , 0.0318538 , 0.02386696, 0.02386696,\n",
            "       0.02386696, 0.02386696, 0.02386696, 0.02336781, 0.0196267 ,\n",
            "       0.01988449, 0.0203995 , 0.0203995 , 0.0203995 , 0.0203995 ,\n",
            "       0.0203995 , 0.0203995 , 0.0203995 , 0.0203995 , 0.0203995 ]), 'rank_test_score': array([23, 23, 22, 23, 21, 20, 18, 18, 12, 12, 12, 12, 12, 17, 11, 10,  1,\n",
            "        1,  1,  1,  1,  1,  1,  1,  1], dtype=int32)}\n",
            "{'n_estimators': 33}\n",
            "0.9841854752034392\n"
          ],
          "name": "stdout"
        }
      ]
    },
    {
      "cell_type": "code",
      "metadata": {
        "id": "WsjEITDUJH_7",
        "colab_type": "code",
        "outputId": "a23eab14-8950-492d-83b7-5e43eb223845",
        "colab": {
          "base_uri": "https://localhost:8080/",
          "height": 35
        }
      },
      "source": [
        "# make prediction\n",
        "preds = clf.predict(X_test)\n",
        "predictions = [round(value) for value in preds]\n",
        "\n",
        "test_accuracy = accuracy_score(y_test, predictions)\n",
        "print(\"Test Accuracy of gridsearchcv: %.2f%%\" % (test_accuracy * 100.0))"
      ],
      "execution_count": 10,
      "outputs": [
        {
          "output_type": "stream",
          "text": [
            "Test Accuracy of gridsearchcv: 97.27%\n"
          ],
          "name": "stdout"
        }
      ]
    }
  ]
}